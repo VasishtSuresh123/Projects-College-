{
 "cells": [
  {
   "cell_type": "code",
   "execution_count": 1,
   "id": "ced423d7",
   "metadata": {},
   "outputs": [
    {
     "name": "stdout",
     "output_type": "stream",
     "text": [
      "Enter the name of the student : Vasisht Suresh\n",
      "Enter the USN of the student : 1AMCCS10123\n",
      "Enter marks in Subject 1 : 70\n",
      "Enter marks in Subject 2 : 80\n",
      "Enter marks in Subject 3 : 78\n",
      "Student Details\n",
      "\n",
      "Name : Vasisht Suresh\n",
      "USN : 1AMCCS10123\n",
      "Marks 1:  70\n",
      "Marks 2:  80\n",
      "Marks 3: 78\n",
      "Total : 228\n",
      "Percentage : 76.0\n"
     ]
    }
   ],
   "source": [
    "stuName = input(\"Enter the name of the student : \")\n",
    "stuUSN = input(\"Enter the USN of the student : \")\n",
    "stuMarks1 = int(input(\"Enter marks in Subject 1 : \"))\n",
    "stuMarks2 = int(input(\"Enter marks in Subject 2 : \"))\n",
    "stuMarks3 = int(input(\"Enter marks in Subject 3 : \"))\n",
    "\n",
    "print(\"Student Details\\n\")\n",
    "print(\"Name :\", stuName)\n",
    "print(\"USN :\", stuUSN)\n",
    "print(\"Marks 1: \", stuMarks1)\n",
    "print(\"Marks 2: \", stuMarks2)\n",
    "print(\"Marks 3:\", stuMarks3)\n",
    "print(\"Total :\", stuMarks1+stuMarks2+stuMarks3)\n",
    "print(\"Percentage :\", (stuMarks1+stuMarks2+stuMarks3)/3)\n",
    "\n"
   ]
  },
  {
   "cell_type": "code",
   "execution_count": 2,
   "id": "ff33dff7",
   "metadata": {},
   "outputs": [
    {
     "name": "stdout",
     "output_type": "stream",
     "text": [
      "Enter the name of the person : Vasisht Suresh\n",
      "Enter the year of birth : 2005\n",
      "Vasisht Suresh aged 18 years is not a senior citizen.\n"
     ]
    }
   ],
   "source": [
    "from datetime import date\n",
    "Name = input(\"Enter the name of the person : \")\n",
    "DOB = int(input(\"Enter the year of birth : \"))\n",
    "\n",
    "currentYear = date.today().year\n",
    "perAge = currentYear - DOB\n",
    "\n",
    "if (perAge > 60):\n",
    "    print(Name, \"aged\", perAge, \"years is a senior citizen.\")\n",
    "else:\n",
    "    print(Name, \"aged\", perAge, \"years is not a senior citizen.\")\n",
    "    \n",
    "    \n",
    "    \n",
    "            "
   ]
  },
  {
   "cell_type": "code",
   "execution_count": null,
   "id": "804f19a6",
   "metadata": {},
   "outputs": [],
   "source": []
  }
 ],
 "metadata": {
  "kernelspec": {
   "display_name": "Python 3 (ipykernel)",
   "language": "python",
   "name": "python3"
  },
  "language_info": {
   "codemirror_mode": {
    "name": "ipython",
    "version": 3
   },
   "file_extension": ".py",
   "mimetype": "text/x-python",
   "name": "python",
   "nbconvert_exporter": "python",
   "pygments_lexer": "ipython3",
   "version": "3.9.12"
  }
 },
 "nbformat": 4,
 "nbformat_minor": 5
}
